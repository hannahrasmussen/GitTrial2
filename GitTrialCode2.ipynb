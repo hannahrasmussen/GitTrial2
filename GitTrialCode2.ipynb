{
 "cells": [
  {
   "cell_type": "code",
   "execution_count": 1,
   "id": "9299a5cf",
   "metadata": {},
   "outputs": [],
   "source": [
    "import numpy as np\n",
    "import numba as nb\n",
    "import matplotlib.pyplot as plt"
   ]
  },
  {
   "cell_type": "code",
   "execution_count": 2,
   "id": "7410fa56",
   "metadata": {},
   "outputs": [],
   "source": [
    "def pythag(a,b):\n",
    "    c = np.sqrt(a**2+b**2)\n",
    "    return c\n",
    "\n",
    "def LoC(a,b,thetaC):\n",
    "    c = np.sqrt(a**2+b**2-2*a*b*np.cos(thetaC))\n",
    "    return c\n",
    "\n",
    "def LoS(a,thetaA,thetaB):\n",
    "    b = a*np.sin(thetaB)/np.sin(thetaA)\n",
    "    return b\n",
    "\n",
    "#suppose I add a quadratic formula function, but it isn't quite working yet. I want to save the work I've done so far \n",
    "#(presumably with git stash), but I want to be able to go to an old, good commit (presumably with git revert or git\n",
    "#reset) so that I can push good commits to the remote repo. I'm going to commit here but not push yet, so this will \n",
    "#be the 'old, good' commit I want to go back to\n",
    "\n",
    "def quad(a,b,c):\n",
    "    num1 = -b + (b**2-4*a*c)**0.5\n",
    "    num2 = -b - (b**2-4*a*c)**0.5\n",
    "    dem = 2*a\n",
    "    soln1 = num1/dem\n",
    "    soln2 = num2/dem\n",
    "    return soln1, soln2"
   ]
  },
  {
   "cell_type": "code",
   "execution_count": 3,
   "id": "d378f9c0",
   "metadata": {},
   "outputs": [
    {
     "name": "stdout",
     "output_type": "stream",
     "text": [
      "The two roots of 4x^2-5x+3 are ((0.625+0.5994789404140899j), (0.625-0.5994789404140899j))\n"
     ]
    }
   ],
   "source": [
    "#tests for each new function\n",
    "\n",
    "print(\"The two roots of 4x^2-5x+3 are \"+str(quad(4,-5,3)))"
   ]
  },
  {
   "cell_type": "code",
   "execution_count": 4,
   "id": "d0748b4c",
   "metadata": {},
   "outputs": [],
   "source": [
    "#just adding this comment here so I have something that has changed to commit to the main branch"
   ]
  },
  {
   "cell_type": "code",
   "execution_count": null,
   "id": "f244cf94",
   "metadata": {},
   "outputs": [],
   "source": []
  }
 ],
 "metadata": {
  "kernelspec": {
   "display_name": "Python 3",
   "language": "python",
   "name": "python3"
  },
  "language_info": {
   "codemirror_mode": {
    "name": "ipython",
    "version": 3
   },
   "file_extension": ".py",
   "mimetype": "text/x-python",
   "name": "python",
   "nbconvert_exporter": "python",
   "pygments_lexer": "ipython3",
   "version": "3.8.8"
  }
 },
 "nbformat": 4,
 "nbformat_minor": 5
}
