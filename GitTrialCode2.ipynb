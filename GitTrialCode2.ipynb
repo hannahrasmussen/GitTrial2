{
 "cells": [
  {
   "cell_type": "code",
   "execution_count": 1,
   "id": "9299a5cf",
   "metadata": {},
   "outputs": [],
   "source": [
    "import numpy as np\n",
    "import numba as nb\n",
    "import matplotlib.pyplot as plt"
   ]
  },
  {
   "cell_type": "code",
   "execution_count": 2,
   "id": "7410fa56",
   "metadata": {},
   "outputs": [],
   "source": [
    "def pythag(a,b):\n",
    "    c = np.sqrt(a**2+b**2)\n",
    "    return c\n",
    "\n",
    "def LoC(a,b,thetaC):\n",
    "    c = np.sqrt(a**2+b**2-2*a*b*np.cos(thetaC))\n",
    "    return c\n",
    "\n",
    "def LoS(a,thetaA,thetaB):\n",
    "    b = a*np.sin(thetaB)/np.sin(thetaA)\n",
    "    return b"
   ]
  },
  {
   "cell_type": "code",
   "execution_count": 3,
   "id": "d378f9c0",
   "metadata": {},
   "outputs": [
    {
     "name": "stdout",
     "output_type": "stream",
     "text": [
      "In a triangle where one angle is pi/6, another angle is pi/6, and the side length opposite the first angle is 5, then the side length opposite the second is 5.0"
     ]
    }
   ],
   "source": [
    "#tests for each new function\n",
    "\n",
    "print(\"In a triangle where one angle is pi/6, another angle is pi/6, and the side length opposite the first angle is 5, then the side length opposite the second is \"+str(LoS(5,np.pi/6,np.pi/6)))"
   ]
  },
  {
   "cell_type": "code",
   "execution_count": 4,
   "id": "d0748b4c",
   "metadata": {},
   "outputs": [],
   "source": [
    "#just adding this comment here so I have something that has changed to commit to the main branch"
   ]
  }
 ],
 "metadata": {
  "kernelspec": {
   "display_name": "Python 3",
   "language": "python",
   "name": "python3"
  },
  "language_info": {
   "codemirror_mode": {
    "name": "ipython",
    "version": 3
   },
   "file_extension": ".py",
   "mimetype": "text/x-python",
   "name": "python",
   "nbconvert_exporter": "python",
   "pygments_lexer": "ipython3",
   "version": "3.7.10"
  }
 },
 "nbformat": 4,
 "nbformat_minor": 5
}
