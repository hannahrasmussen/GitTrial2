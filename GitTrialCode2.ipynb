{
 "cells": [
  {
   "cell_type": "code",
   "execution_count": 1,
   "id": "9299a5cf",
   "metadata": {},
   "outputs": [],
   "source": [
    "import numpy as np\n",
    "import numba as nb\n",
    "import matplotlib.pyplot as plt"
   ]
  },
  {
   "cell_type": "code",
   "execution_count": 2,
   "id": "7410fa56",
   "metadata": {},
   "outputs": [],
   "source": [
    "#Pythagorean theorem and Law of Cosines\n",
    "\n",
    "def pythag(a,b):\n",
    "    c = np.sqrt(a**2+b**2)\n",
    "    return c\n",
    "\n",
    "def LoC(a,b,thetaC):\n",
    "    c = np.sqrt(a**2+b**2-2*a*b*np.cos(thetaC))\n",
    "    return c\n"
   ]
  },
  {
   "cell_type": "code",
   "execution_count": 3,
   "id": "d378f9c0",
   "metadata": {},
   "outputs": [
    {
     "name": "stdout",
     "output_type": "stream",
     "text": [
      "The hypoteneuse of a right triangle where a=3 and b=4 is 5\n",
      "The third side length of a triangle where a=4, b=4, and the angle between them is pi/3 is 4\n"
     ]
    }
   ],
   "source": [
    "#tests for each new function\n",
    "\n",
    "print(\"The hypoteneuse of a right triangle where a=3 and b=4 is \"+str(pythag(3,4)))\n",
    "\n",
    "print(\"The third side length of a triangle where a=4, b=4, and the angle between them is pi/3 is \"+str(LoC(4,4,np.pi/3)))"
   ]
  },
  {
   "cell_type": "code",
   "execution_count": null,
   "id": "d0748b4c",
   "metadata": {},
   "outputs": [],
   "source": []
  }
 ],
 "metadata": {
  "kernelspec": {
   "display_name": "Python 3",
   "language": "python",
   "name": "python3"
  },
  "language_info": {
   "codemirror_mode": {
    "name": "ipython",
    "version": 3
   },
   "file_extension": ".py",
   "mimetype": "text/x-python",
   "name": "python",
   "nbconvert_exporter": "python",
   "pygments_lexer": "ipython3",
   "version": "3.7.10"
  }
 },
 "nbformat": 4,
 "nbformat_minor": 5
}
