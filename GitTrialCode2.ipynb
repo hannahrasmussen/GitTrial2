{
 "cells": [
  {
   "cell_type": "code",
   "execution_count": 1,
   "id": "9299a5cf",
   "metadata": {},
   "outputs": [],
   "source": [
    "import numpy as np\n",
    "import numba as nb\n",
    "import matplotlib.pyplot as plt"
   ]
  },
  {
   "cell_type": "code",
   "execution_count": 2,
   "id": "7410fa56",
   "metadata": {},
   "outputs": [],
   "source": [
    "def pythag(a,b):\n",
    "    c = np.sqrt(a**2+b**2)\n",
    "    return c\n",
    "\n",
    "def LoC(a,b,thetaC):\n",
    "    c = np.sqrt(a**2+b**2-2*a*b*np.cos(thetaC))\n",
    "    return c\n",
    "\n",
    "def LoS(a,thetaA,thetaB):\n",
    "    b = a*np.sin(thetaB)/np.sin(thetaA)\n",
    "    return b\n",
    "\n",
    "def angle(thetaA,thetaB):\n",
    "    thetaC = np.pi-thetaA-thetaB\n",
    "    return thetaC\n",
    "\n",
    "def angle_quad(thetaA,thetaB,thetaC):\n",
    "    thetaD = 2*np.pi-thetaA-thetaB-thetaC\n",
    "    return thetaD"
   ]
  },
  {
   "cell_type": "code",
   "execution_count": 3,
   "id": "d378f9c0",
   "metadata": {},
   "outputs": [
    {
     "name": "stdout",
     "output_type": "stream",
     "text": [
      "In a quadrilateral where one angle is pi/4, another angle is pi/3, and another angle is 7pi/6, the fourth angle is 0.7853981634\n"
     ]
    }
   ],
   "source": [
    "#tests for each new function\n",
    "\n",
    "print(\"In a quadrilateral where one angle is pi/4, another angle is pi/3, and another angle is 7pi/6, the fourth angle is \"+str(angle_quad(np.pi/4,np.pi/3,7*np.pi/6)))"
   ]
  },
  {
   "cell_type": "code",
   "execution_count": 4,
   "id": "0a538dca",
   "metadata": {},
   "outputs": [],
   "source": [
    "#just adding this commit here so I have something that has changed to commit to the main branch"
   ]
  }
 ],
 "metadata": {
  "kernelspec": {
   "display_name": "Python 3",
   "language": "python",
   "name": "python3"
  },
  "language_info": {
   "codemirror_mode": {
    "name": "ipython",
    "version": 3
   },
   "file_extension": ".py",
   "mimetype": "text/x-python",
   "name": "python",
   "nbconvert_exporter": "python",
   "pygments_lexer": "ipython3",
   "version": "3.8.8"
  }
 },
 "nbformat": 4,
 "nbformat_minor": 5
}
